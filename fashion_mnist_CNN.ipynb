{
  "nbformat": 4,
  "nbformat_minor": 0,
  "metadata": {
    "colab": {
      "name": "fashion_mnist_CNN.ipynb",
      "provenance": [],
      "collapsed_sections": []
    },
    "kernelspec": {
      "name": "python3",
      "display_name": "Python 3"
    },
    "accelerator": "GPU"
  },
  "cells": [
    {
      "cell_type": "code",
      "metadata": {
        "id": "fco8WOjhH_Q-",
        "colab_type": "code",
        "colab": {}
      },
      "source": [
        "import matplotlib.pyplot as plt\n",
        "import tensorflow as tf\n",
        "import numpy as np\n",
        "import pandas as pd\n",
        "import sys"
      ],
      "execution_count": null,
      "outputs": []
    },
    {
      "cell_type": "code",
      "metadata": {
        "id": "6DDKihX9IPyZ",
        "colab_type": "code",
        "colab": {
          "base_uri": "https://localhost:8080/",
          "height": 191
        },
        "outputId": "a176602d-d06a-4a0c-f7b5-7445727995cc"
      },
      "source": [
        "#from sklearn.preprocessing import StandardScaler\n",
        "\n",
        "# Fashion MNIST\n",
        "\n",
        "fashion_mnist = tf.keras.datasets.fashion_mnist\n",
        "\n",
        "(images_train, targets_train), (images_test, targets_test) = tf.keras.datasets.fashion_mnist.load_data()\n",
        "\n",
        "print(images_train.shape)\n",
        "print(targets_train.shape)"
      ],
      "execution_count": null,
      "outputs": [
        {
          "output_type": "stream",
          "text": [
            "Downloading data from https://storage.googleapis.com/tensorflow/tf-keras-datasets/train-labels-idx1-ubyte.gz\n",
            "32768/29515 [=================================] - 0s 0us/step\n",
            "Downloading data from https://storage.googleapis.com/tensorflow/tf-keras-datasets/train-images-idx3-ubyte.gz\n",
            "26427392/26421880 [==============================] - 0s 0us/step\n",
            "Downloading data from https://storage.googleapis.com/tensorflow/tf-keras-datasets/t10k-labels-idx1-ubyte.gz\n",
            "8192/5148 [===============================================] - 0s 0us/step\n",
            "Downloading data from https://storage.googleapis.com/tensorflow/tf-keras-datasets/t10k-images-idx3-ubyte.gz\n",
            "4423680/4422102 [==============================] - 0s 0us/step\n",
            "(60000, 28, 28)\n",
            "(60000,)\n"
          ],
          "name": "stdout"
        }
      ]
    },
    {
      "cell_type": "code",
      "metadata": {
        "id": "43gl6IKeVsxF",
        "colab_type": "code",
        "colab": {
          "base_uri": "https://localhost:8080/",
          "height": 35
        },
        "outputId": "80c1d5d4-c79f-4657-e21f-c978fb50f78a"
      },
      "source": [
        "targets_train[:10]"
      ],
      "execution_count": null,
      "outputs": [
        {
          "output_type": "execute_result",
          "data": {
            "text/plain": [
              "array([9, 0, 0, 3, 0, 2, 7, 2, 5, 5], dtype=uint8)"
            ]
          },
          "metadata": {
            "tags": []
          },
          "execution_count": 3
        }
      ]
    },
    {
      "cell_type": "code",
      "metadata": {
        "id": "AdN1Nn8HX9c7",
        "colab_type": "code",
        "colab": {
          "base_uri": "https://localhost:8080/",
          "height": 283
        },
        "outputId": "e58082b4-311b-4573-f37d-57156e044cda"
      },
      "source": [
        "plt.imshow(images_train[726])"
      ],
      "execution_count": null,
      "outputs": [
        {
          "output_type": "execute_result",
          "data": {
            "text/plain": [
              "<matplotlib.image.AxesImage at 0x7f61176c2160>"
            ]
          },
          "metadata": {
            "tags": []
          },
          "execution_count": 4
        },
        {
          "output_type": "display_data",
          "data": {
            "image/png": "[encoded data removed]",
            "text/plain": [
              "<Figure size 432x288 with 1 Axes>"
            ]
          },
          "metadata": {
            "tags": [],
            "needs_background": "light"
          }
        }
      ]
    },
    {
      "cell_type": "code",
      "metadata": {
        "id": "Mt8KreEWITDt",
        "colab_type": "code",
        "colab": {}
      },
      "source": [
        "targets_names = [\"T-shirt\", \"Pantalon\", \"Pull\", \"Robe\", \"Manteau\", \"Sandale\", \n",
        "                 \"Chemise\", \"Sneaker\", \"Sac\", \"Bottes\"]"
      ],
      "execution_count": null,
      "outputs": []
    },
    {
      "cell_type": "code",
      "metadata": {
        "id": "cAoY18siV12V",
        "colab_type": "code",
        "colab": {
          "base_uri": "https://localhost:8080/",
          "height": 297
        },
        "outputId": "bc231640-ce39-4b96-adf8-094370fa2f54"
      },
      "source": [
        "labels = targets_names\n",
        "sizes = np.unique(targets_train,return_counts=True)[1]\n",
        "\n",
        "#colors\n",
        "colors = ['#fff100','#ff8c00','#e81123','#ec008c','#68217a','#00188f',\n",
        "          '#00bcf2','#00b294','#009e49','#bad80a']\n",
        " \n",
        "fig1, ax1 = plt.subplots()\n",
        "ax1.pie(sizes, colors = colors, labels=labels, autopct='%1.1f%%', startangle=90)\n",
        "#draw circle\n",
        "centre_circle = plt.Circle((0,0),0.70,fc='white')\n",
        "fig = plt.gcf()\n",
        "fig.gca().add_artist(centre_circle)\n",
        "# Equal aspect ratio ensures that pie is drawn as a circle\n",
        "ax1.axis('equal')  \n",
        "plt.tight_layout()\n",
        "plt.show()"
      ],
      "execution_count": null,
      "outputs": [
        {
          "output_type": "display_data",
          "data": {
            "image/png": "[encoded data removed]",
            "text/plain": [
              "<Figure size 432x288 with 1 Axes>"
            ]
          },
          "metadata": {
            "tags": []
          }
        }
      ]
    },
    {
      "cell_type": "code",
      "metadata": {
        "id": "w9QSF-7oxT5o",
        "colab_type": "code",
        "colab": {}
      },
      "source": [
        "images_train = images_train.reshape(-1,28,28,1)\n",
        "images_test = images_test.reshape(-1,28,28,1)"
      ],
      "execution_count": null,
      "outputs": []
    },
    {
      "cell_type": "code",
      "metadata": {
        "id": "UaS7sfiWMWw8",
        "colab_type": "code",
        "colab": {}
      },
      "source": [
        "images_train = images_train.astype('float')/255\n",
        "images_test = images_test.astype('float')/255"
      ],
      "execution_count": null,
      "outputs": []
    },
    {
      "cell_type": "code",
      "metadata": {
        "id": "uYcKMlHlsdci",
        "colab_type": "code",
        "colab": {}
      },
      "source": [
        "model = tf.keras.Sequential()\n",
        "\n",
        "model.add(tf.keras.layers.Conv2D(64, kernel_size=(3, 3),\n",
        "                 activation='relu',\n",
        "                 input_shape=(28, 28, 1)))\n",
        "\n",
        "model.add(tf.keras.layers.Conv2D(64, \n",
        "                 kernel_size=(3, 3), \n",
        "                 activation='relu'))\n",
        "\n",
        "model.add(tf.keras.layers.MaxPooling2D(pool_size=(2, 2)))\n",
        "model.add(tf.keras.layers.Dropout(0.3))\n",
        "\n",
        "model.add(tf.keras.layers.Conv2D(256, \n",
        "                 kernel_size=(3, 3), \n",
        "                 activation='relu'))\n",
        "\n",
        "model.add(tf.keras.layers.Conv2D(256, \n",
        "                 kernel_size=(3, 3), \n",
        "                 activation='relu'))\n",
        "\n",
        "model.add(tf.keras.layers.MaxPooling2D(pool_size=(2, 2)))\n",
        "model.add(tf.keras.layers.Dropout(0.3))\n",
        "\n",
        "model.add(tf.keras.layers.Flatten())\n",
        "\n",
        "model.add(tf.keras.layers.Dense(256, activation='relu'))\n",
        "model.add(tf.keras.layers.Dropout(0.3))\n",
        "\n",
        "model.add(tf.keras.layers.Dense(128, activation='relu'))\n",
        "\n",
        "model.add(tf.keras.layers.Dense(10, activation='softmax'))"
      ],
      "execution_count": null,
      "outputs": []
    },
    {
      "cell_type": "code",
      "metadata": {
        "id": "rCDzo_IlIa1h",
        "colab_type": "code",
        "colab": {}
      },
      "source": [
        "# Compile the model\n",
        "\n",
        "model.compile(\n",
        "    loss=\"sparse_categorical_crossentropy\",\n",
        "    optimizer=\"adam\",\n",
        "    metrics=[\"accuracy\"]\n",
        "    )"
      ],
      "execution_count": null,
      "outputs": []
    },
    {
      "cell_type": "code",
      "metadata": {
        "id": "XRc8jDPTIcxl",
        "colab_type": "code",
        "colab": {
          "base_uri": "https://localhost:8080/",
          "height": 537
        },
        "outputId": "1ea11231-a81a-40de-9f36-ba2b101299a5"
      },
      "source": [
        "history = model.fit(images_train,\n",
        "                    targets_train,\n",
        "                    epochs=15,\n",
        "                    validation_split=0.2)"
      ],
      "execution_count": null,
      "outputs": [
        {
          "output_type": "stream",
          "text": [
            "Epoch 1/15\n",
            "1500/1500 [==============================] - 25s 17ms/step - loss: 0.5254 - accuracy: 0.8078 - val_loss: 0.3303 - val_accuracy: 0.8753\n",
            "Epoch 2/15\n",
            "1500/1500 [==============================] - 24s 16ms/step - loss: 0.3317 - accuracy: 0.8800 - val_loss: 0.3147 - val_accuracy: 0.8805\n",
            "Epoch 3/15\n",
            "1500/1500 [==============================] - 25s 16ms/step - loss: 0.2888 - accuracy: 0.8952 - val_loss: 0.2445 - val_accuracy: 0.9112\n",
            "Epoch 4/15\n",
            "1500/1500 [==============================] - 24s 16ms/step - loss: 0.2586 - accuracy: 0.9057 - val_loss: 0.2433 - val_accuracy: 0.9118\n",
            "Epoch 5/15\n",
            "1500/1500 [==============================] - 24s 16ms/step - loss: 0.2405 - accuracy: 0.9125 - val_loss: 0.2344 - val_accuracy: 0.9174\n",
            "Epoch 6/15\n",
            "1500/1500 [==============================] - 24s 16ms/step - loss: 0.2252 - accuracy: 0.9176 - val_loss: 0.2275 - val_accuracy: 0.9165\n",
            "Epoch 7/15\n",
            "1500/1500 [==============================] - 25s 16ms/step - loss: 0.2074 - accuracy: 0.9240 - val_loss: 0.2175 - val_accuracy: 0.9193\n",
            "Epoch 8/15\n",
            "1500/1500 [==============================] - 24s 16ms/step - loss: 0.2027 - accuracy: 0.9255 - val_loss: 0.2381 - val_accuracy: 0.9114\n",
            "Epoch 9/15\n",
            "1500/1500 [==============================] - 24s 16ms/step - loss: 0.1898 - accuracy: 0.9309 - val_loss: 0.2175 - val_accuracy: 0.9243\n",
            "Epoch 10/15\n",
            "1500/1500 [==============================] - 24s 16ms/step - loss: 0.1818 - accuracy: 0.9335 - val_loss: 0.2124 - val_accuracy: 0.9235\n",
            "Epoch 11/15\n",
            "1500/1500 [==============================] - 25s 16ms/step - loss: 0.1727 - accuracy: 0.9367 - val_loss: 0.2190 - val_accuracy: 0.9258\n",
            "Epoch 12/15\n",
            "1500/1500 [==============================] - 25s 16ms/step - loss: 0.1652 - accuracy: 0.9389 - val_loss: 0.2152 - val_accuracy: 0.9260\n",
            "Epoch 13/15\n",
            "1500/1500 [==============================] - 25s 17ms/step - loss: 0.1605 - accuracy: 0.9423 - val_loss: 0.2072 - val_accuracy: 0.9311\n",
            "Epoch 14/15\n",
            "1500/1500 [==============================] - 25s 16ms/step - loss: 0.1552 - accuracy: 0.9432 - val_loss: 0.2185 - val_accuracy: 0.9262\n",
            "Epoch 15/15\n",
            "1500/1500 [==============================] - 25s 16ms/step - loss: 0.1521 - accuracy: 0.9447 - val_loss: 0.2215 - val_accuracy: 0.9260\n"
          ],
          "name": "stdout"
        }
      ]
    },
    {
      "cell_type": "code",
      "metadata": {
        "id": "H2Nh_EP5IgV8",
        "colab_type": "code",
        "colab": {
          "base_uri": "https://localhost:8080/",
          "height": 545
        },
        "outputId": "aba08046-848c-4c02-8e4c-d33d1292dd1b"
      },
      "source": [
        "loss_curve = history.history[\"loss\"]\n",
        "acc_curve = history.history[\"accuracy\"]\n",
        "\n",
        "loss_val_curve = history.history[\"val_loss\"]\n",
        "acc_val_curve = history.history[\"val_accuracy\"]\n",
        "\n",
        "plt.plot(loss_curve, label=\"Train\")\n",
        "plt.plot(loss_val_curve, label=\"Val\")\n",
        "plt.legend(loc='upper left')\n",
        "plt.title(\"Loss\")\n",
        "plt.show()\n",
        "\n",
        "plt.plot(acc_curve, label=\"Train\")\n",
        "plt.plot(acc_val_curve, label=\"Val\")\n",
        "plt.legend(loc='upper left')\n",
        "plt.title(\"Accuracy\")\n",
        "plt.show()"
      ],
      "execution_count": null,
      "outputs": [
        {
          "output_type": "display_data",
          "data": {
            "image/png": "[encoded data removed]",
            "text/plain": [
              "<Figure size 432x288 with 1 Axes>"
            ]
          },
          "metadata": {
            "tags": [],
            "needs_background": "light"
          }
        },
        {
          "output_type": "display_data",
          "data": {
            "image/png": "[encoded data removed]",
            "text/plain": [
              "<Figure size 432x288 with 1 Axes>"
            ]
          },
          "metadata": {
            "tags": [],
            "needs_background": "light"
          }
        }
      ]
    },
    {
      "cell_type": "code",
      "metadata": {
        "id": "zw2wwID1Ijul",
        "colab_type": "code",
        "colab": {
          "base_uri": "https://localhost:8080/",
          "height": 69
        },
        "outputId": "2187c093-f436-4e9a-fe5e-29df8c4ac0cc"
      },
      "source": [
        "loss, acc = model.evaluate(images_test, targets_test)\n",
        "print(\"Test Loss\", loss)\n",
        "print(\"Test Accuracy\", acc)"
      ],
      "execution_count": null,
      "outputs": [
        {
          "output_type": "stream",
          "text": [
            "313/313 [==============================] - 3s 8ms/step - loss: 0.2409 - accuracy: 0.9246\n",
            "Test Loss 0.2408551722764969\n",
            "Test Accuracy 0.9246000051498413\n"
          ],
          "name": "stdout"
        }
      ]
    },
    {
      "cell_type": "code",
      "metadata": {
        "id": "Due6f_ZcmKZT",
        "colab_type": "code",
        "colab": {}
      },
      "source": [
        ""
      ],
      "execution_count": null,
      "outputs": []
    }
  ]
}